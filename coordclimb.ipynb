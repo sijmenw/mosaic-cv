{
 "cells": [
  {
   "cell_type": "markdown",
   "metadata": {},
   "source": [
    "## Create a picture with hill climbing using a mosaic grid"
   ]
  },
  {
   "cell_type": "code",
   "execution_count": null,
   "metadata": {},
   "outputs": [],
   "source": [
    "%load_ext autoreload\n",
    "%autoreload 2"
   ]
  },
  {
   "cell_type": "code",
   "execution_count": null,
   "metadata": {},
   "outputs": [],
   "source": [
    "import cv2\n",
    "import numpy as np\n",
    "import helper\n",
    "from individual import Individual"
   ]
  },
  {
   "cell_type": "code",
   "execution_count": null,
   "metadata": {},
   "outputs": [],
   "source": [
    "img = cv2.imread(\"./img/bird.jpg\")"
   ]
  },
  {
   "cell_type": "code",
   "execution_count": null,
   "metadata": {},
   "outputs": [],
   "source": [
    "helper.show_img(img)"
   ]
  },
  {
   "cell_type": "code",
   "execution_count": null,
   "metadata": {},
   "outputs": [],
   "source": [
    "def get_masks(shape):\n",
    "    mid_coord = (shape[1]//2, shape[0]//2)\n",
    "    tl = (0, 0)\n",
    "    tr = (shape[1], 0)\n",
    "    bl = (0, shape[0])\n",
    "    br = (shape[1], shape[0])\n",
    "    \n",
    "    top = np.array((tl, mid_coord, tr))\n",
    "    top = top.reshape((-1, 1, 2))\n",
    "    \n",
    "    right = np.array((tr, mid_coord, br))\n",
    "    right = right.reshape((-1, 1, 2))\n",
    "    \n",
    "    bottom = np.array((bl, mid_coord, br))\n",
    "    bottom = bottom.reshape((-1, 1, 2))\n",
    "    \n",
    "    left = np.array((tl, mid_coord, bl))\n",
    "    left = left.reshape((-1, 1, 2))\n",
    "    \n",
    "    top_m = np.zeros(shape)\n",
    "    cv2.fillPoly(top_m, [top], (1, 0, 0))\n",
    "    top_m = np.sum(top_m, axis=2).astype(bool)\n",
    "\n",
    "    right_m = np.zeros(shape)\n",
    "    cv2.fillPoly(right_m, [right], (1, 0, 0))\n",
    "    right_m = np.sum(right_m, axis=2).astype(bool)\n",
    "\n",
    "    bottom_m = np.zeros(shape)\n",
    "    cv2.fillPoly(bottom_m, [bottom], (1, 0, 0))\n",
    "    bottom_m = np.sum(bottom_m, axis=2).astype(bool)\n",
    "    \n",
    "    left_m = np.zeros(shape)\n",
    "    cv2.fillPoly(left_m, [left], (1, 0, 0))\n",
    "    left_m = np.sum(left_m, axis=2).astype(bool)\n",
    "    \n",
    "    return top_m, right_m, bottom_m, left_m"
   ]
  },
  {
   "cell_type": "code",
   "execution_count": null,
   "metadata": {},
   "outputs": [],
   "source": [
    "def build_square(img):\n",
    "    masks = get_masks(img.shape)\n",
    "    for mask in masks:\n",
    "        color = np.average(img[mask], axis=0)\n",
    "        img[mask, :] = color.astype(np.uint)\n",
    "    return img\n",
    "\n",
    "def build_mosaic(img, grid_size):\n",
    "    canvas = np.zeros_like(img)\n",
    "    \n",
    "    # grid size is (rows, columns)\n",
    "    r_size = img.shape[0] // grid_size[0]\n",
    "    c_size = img.shape[1] // grid_size[1]\n",
    "    \n",
    "    for r_n in range(grid_size[0]):\n",
    "        for c_n in range(grid_size[1]):\n",
    "            # starting coordinates for row/column\n",
    "            r_s = r_n * r_size\n",
    "            c_s = c_n * c_size            \n",
    "            \n",
    "            # end coordinates for row/column\n",
    "            if r_n < grid_size[0] - 1:\n",
    "                r_e = r_s + r_size\n",
    "            else:\n",
    "                r_e = img.shape[0]\n",
    "            if c_n < grid_size[1] - 1:\n",
    "                c_e = c_s + c_size\n",
    "            else:\n",
    "                c_e = img.shape[1]                \n",
    "            \n",
    "            canvas[r_s:r_e, c_s:c_e] = build_square(img[r_s:r_e, c_s:c_e])\n",
    "    \n",
    "    return canvas"
   ]
  },
  {
   "cell_type": "code",
   "execution_count": null,
   "metadata": {},
   "outputs": [],
   "source": [
    "res = build_mosaic(img, (14, 16))\n",
    "helper.show_img(res)\n",
    "cv2.imwrite(\"./mosaic.png\", res)"
   ]
  },
  {
   "cell_type": "code",
   "execution_count": null,
   "metadata": {},
   "outputs": [],
   "source": [
    "grid_rows = 12\n",
    "grid_cols = 12\n",
    "ind = Individual(caps, (grid_rows,grid_cols))\n",
    "ind.draw()\n",
    "helper.show_img(ind.canvas)"
   ]
  },
  {
   "cell_type": "code",
   "execution_count": null,
   "metadata": {},
   "outputs": [],
   "source": [
    "im_name = \"bird\"\n",
    "cv2.imwrite(\"./climb/{}_r{}_c{}_i{:0>3}.png\".format(im_name, grid_rows, grid_cols, 0), ind.canvas)\n",
    "for i in range(120):\n",
    "    print(\"Iteration: {}\".format(i+1))\n",
    "    ind.mutate()\n",
    "    cv2.imwrite(\"./climb/{}_r{}_c{}_i{:0>3}.png\".format(im_name, grid_rows, grid_cols, i+1), ind.canvas)"
   ]
  },
  {
   "cell_type": "code",
   "execution_count": null,
   "metadata": {},
   "outputs": [],
   "source": [
    "helper.show_img(ind.canvas)"
   ]
  },
  {
   "cell_type": "code",
   "execution_count": null,
   "metadata": {},
   "outputs": [],
   "source": []
  }
 ],
 "metadata": {
  "kernelspec": {
   "display_name": "Python 3",
   "language": "python",
   "name": "python3"
  },
  "language_info": {
   "codemirror_mode": {
    "name": "ipython",
    "version": 3
   },
   "file_extension": ".py",
   "mimetype": "text/x-python",
   "name": "python",
   "nbconvert_exporter": "python",
   "pygments_lexer": "ipython3",
   "version": "3.7.3"
  }
 },
 "nbformat": 4,
 "nbformat_minor": 2
}
